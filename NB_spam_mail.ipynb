{
  "nbformat": 4,
  "nbformat_minor": 0,
  "metadata": {
    "colab": {
      "provenance": [],
      "gpuType": "T4",
      "authorship_tag": "ABX9TyME5PUccbZ/M54mkzYWvmdW",
      "include_colab_link": true
    },
    "kernelspec": {
      "name": "python3",
      "display_name": "Python 3"
    },
    "language_info": {
      "name": "python"
    },
    "accelerator": "GPU"
  },
  "cells": [
    {
      "cell_type": "markdown",
      "metadata": {
        "id": "view-in-github",
        "colab_type": "text"
      },
      "source": [
        "<a href=\"https://colab.research.google.com/github/rencdr/python.spam.email.nb/blob/master/NB_spam_mail.ipynb\" target=\"_parent\"><img src=\"https://colab.research.google.com/assets/colab-badge.svg\" alt=\"Open In Colab\"/></a>"
      ]
    },
    {
      "cell_type": "markdown",
      "source": [
        "Create Dataset"
      ],
      "metadata": {
        "id": "lI6cXJgjn6AN"
      }
    },
    {
      "cell_type": "code",
      "source": [
        "import json\n",
        "import random"
      ],
      "metadata": {
        "id": "_Tt2KSvkn-le"
      },
      "execution_count": 37,
      "outputs": []
    },
    {
      "cell_type": "code",
      "source": [
        "data = []\n",
        "\n",
        "# Normal e-mails\n",
        "for _ in range(40):\n",
        "    email = \"This is a regular email.\"\n",
        "    data.append({\"text\": email, \"label\": 0})\n",
        "for _ in range(40):\n",
        "    email = \"This is a very regular email.\"\n",
        "    data.append({\"text\": email, \"label\": 0})\n",
        "\n",
        "# Spam e-mails\n",
        "for _ in range(10):\n",
        "    email = \"Win! Join now and win the grand prize!\"\n",
        "    data.append({\"text\": email, \"label\": 1})\n",
        "for _ in range(10):\n",
        "    email = \"Hey, Did you remember me?\"\n",
        "    data.append({\"text\": email, \"label\": 1})\n",
        "\n",
        "# Shuffle the dataset\n",
        "random.shuffle(data)\n",
        "\n",
        "# Parse JSON\n",
        "with open(\"spam_classification_data.json\", \"w\") as file:\n",
        "    json.dump(data, file)\n",
        "\n",
        "print(\"Data sets were created and saved in the 'spam_classification_data.json' file.\")"
      ],
      "metadata": {
        "id": "Pij2J6tIn_bC"
      },
      "execution_count": null,
      "outputs": []
    },
    {
      "cell_type": "markdown",
      "source": [
        "Train Model"
      ],
      "metadata": {
        "id": "ouvB3sgWoxqK"
      }
    },
    {
      "cell_type": "code",
      "source": [
        "from sklearn.model_selection import train_test_split\n",
        "from sklearn.feature_extraction.text import CountVectorizer\n",
        "from sklearn.naive_bayes import MultinomialNB\n",
        "from sklearn.metrics import accuracy_score, precision_score, recall_score, f1_score\n",
        "import json"
      ],
      "metadata": {
        "id": "6EYjBO7Eo172"
      },
      "execution_count": 39,
      "outputs": []
    },
    {
      "cell_type": "code",
      "source": [
        "# Upload Dataset\n",
        "with open(\"spam_classification_data.json\", \"r\") as file:\n",
        "    data = json.load(file)"
      ],
      "metadata": {
        "id": "xpPSSa0Go2xT"
      },
      "execution_count": 40,
      "outputs": []
    },
    {
      "cell_type": "code",
      "source": [
        "X = [sample[\"text\"] for sample in data]\n",
        "y = [sample[\"label\"] for sample in data]\n",
        "X_train, X_test, y_train, y_test = train_test_split(X, y, test_size=0.2, random_state=42)"
      ],
      "metadata": {
        "id": "Ej7__3VNo9dY"
      },
      "execution_count": 41,
      "outputs": []
    },
    {
      "cell_type": "code",
      "source": [
        "vectorizer = CountVectorizer()\n",
        "X_train_vectorized = vectorizer.fit_transform(X_train)\n",
        "X_test_vectorized = vectorizer.transform(X_test)"
      ],
      "metadata": {
        "id": "ldMpq6rRpBwx"
      },
      "execution_count": 42,
      "outputs": []
    },
    {
      "cell_type": "code",
      "source": [
        "# Naive Bayes\n",
        "model = MultinomialNB()\n",
        "model.fit(X_train_vectorized, y_train)"
      ],
      "metadata": {
        "id": "-D0lDN5wpDyr"
      },
      "execution_count": null,
      "outputs": []
    },
    {
      "cell_type": "code",
      "source": [
        "y_pred = model.predict(X_test_vectorized)"
      ],
      "metadata": {
        "id": "9JZJqIZDpFVP"
      },
      "execution_count": 44,
      "outputs": []
    },
    {
      "cell_type": "code",
      "source": [
        "#Accuracy\n",
        "accuracy = accuracy_score(y_test, y_pred)\n",
        "print(f\"Model Accuracy: {accuracy}\")\n",
        "\n",
        "# Precision\n",
        "precision = precision_score(y_test, y_pred)\n",
        "print(f\"Precision: {precision}\")\n",
        "\n",
        "# Recall\n",
        "recall = recall_score(y_test, y_pred)\n",
        "print(f\"Recall: {recall}\")\n",
        "\n",
        "# F1-score\n",
        "f1 = f1_score(y_test, y_pred)\n",
        "print(f\"F1-score: {f1}\")"
      ],
      "metadata": {
        "id": "1EOVRXf9pHyY"
      },
      "execution_count": null,
      "outputs": []
    },
    {
      "cell_type": "code",
      "source": [
        "email_text = input(\"Enter email text: \")\n",
        "email_vectorized = vectorizer.transform([email_text])"
      ],
      "metadata": {
        "id": "Su0LBnKFrHd5"
      },
      "execution_count": null,
      "outputs": []
    },
    {
      "cell_type": "code",
      "source": [
        "prediction = model.predict(email_vectorized)\n",
        "if prediction[0] == 1:\n",
        "    print(\"SPAM!\")\n",
        "else:\n",
        "    print(\"NOT SPAM.\")\n"
      ],
      "metadata": {
        "id": "GBlYRZNYrJSi"
      },
      "execution_count": null,
      "outputs": []
    }
  ]
}